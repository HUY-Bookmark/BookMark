{
 "cells": [
  {
   "cell_type": "code",
   "execution_count": 7,
   "id": "39476277-2fb6-4a73-8712-3f087aa56e28",
   "metadata": {},
   "outputs": [
    {
     "name": "stdout",
     "output_type": "stream",
     "text": [
      "       bookID                                              title  \\\n",
      "0           1  Harry Potter and the Half-Blood Prince (Harry ...   \n",
      "1           2  Harry Potter and the Order of the Phoenix (Har...   \n",
      "2           4  Harry Potter and the Chamber of Secrets (Harry...   \n",
      "3           5  Harry Potter and the Prisoner of Azkaban (Harr...   \n",
      "4           8  Harry Potter Boxed Set  Books 1-5 (Harry Potte...   \n",
      "...       ...                                                ...   \n",
      "11122   45631   Expelled from Eden: A William T. Vollmann Reader   \n",
      "11123   45633                        You Bright and Risen Angels   \n",
      "11124   45634                    The Ice-Shirt (Seven Dreams #1)   \n",
      "11125   45639                                        Poor People   \n",
      "11126   45641                        Las aventuras de Tom Sawyer   \n",
      "\n",
      "                                                 authors average_rating  \\\n",
      "0                             J.K. Rowling/Mary GrandPré           4.57   \n",
      "1                             J.K. Rowling/Mary GrandPré           4.49   \n",
      "2                                           J.K. Rowling           4.42   \n",
      "3                             J.K. Rowling/Mary GrandPré           4.56   \n",
      "4                             J.K. Rowling/Mary GrandPré           4.78   \n",
      "...                                                  ...            ...   \n",
      "11122  William T. Vollmann/Larry McCaffery/Michael He...           4.06   \n",
      "11123                                William T. Vollmann           4.08   \n",
      "11124                                William T. Vollmann           3.96   \n",
      "11125                                William T. Vollmann           3.72   \n",
      "11126                                         Mark Twain           3.91   \n",
      "\n",
      "             isbn         isbn13 language_code   num_pages  ratings_count  \\\n",
      "0      0439785960  9780439785969           eng         652        2095690   \n",
      "1      0439358078  9780439358071           eng         870        2153167   \n",
      "2      0439554896  9780439554893           eng         352           6333   \n",
      "3      043965548X  9780439655484           eng         435        2339585   \n",
      "4      0439682584  9780439682589           eng        2690          41428   \n",
      "...           ...            ...           ...         ...            ...   \n",
      "11122  1560254416  9781560254416           eng         512            156   \n",
      "11123  0140110879  9780140110876           eng         635            783   \n",
      "11124  0140131965  9780140131963           eng         415            820   \n",
      "11125  0060878827  9780060878825           eng         434            769   \n",
      "11126  8497646983  9788497646987           spa         272            113   \n",
      "\n",
      "       text_reviews_count publication_date        publisher  \n",
      "0                   27591        9/16/2006  Scholastic Inc.  \n",
      "1                   29221         9/1/2004  Scholastic Inc.  \n",
      "2                     244        11/1/2003       Scholastic  \n",
      "3                   36325         5/1/2004  Scholastic Inc.  \n",
      "4                     164        9/13/2004       Scholastic  \n",
      "...                   ...              ...              ...  \n",
      "11122                  20       12/21/2004    Da Capo Press  \n",
      "11123                  56        12/1/1988    Penguin Books  \n",
      "11124                  95         8/1/1993    Penguin Books  \n",
      "11125                 139        2/27/2007             Ecco  \n",
      "11126                  12        5/28/2006    Edimat Libros  \n",
      "\n",
      "[11127 rows x 12 columns]\n"
     ]
    }
   ],
   "source": [
    "import pandas\n",
    "books = pandas.read_csv(\"books.csv\")\n",
    "print(books)"
   ]
  },
  {
   "cell_type": "code",
   "execution_count": null,
   "id": "67e5f972-20ad-4dfd-8bde-85ef588fcb98",
   "metadata": {},
   "outputs": [],
   "source": []
  },
  {
   "cell_type": "code",
   "execution_count": null,
   "id": "bf4a8f05-e0d9-429c-b7d8-a361f3e76d94",
   "metadata": {},
   "outputs": [],
   "source": []
  }
 ],
 "metadata": {
  "kernelspec": {
   "display_name": "Python 3",
   "language": "python",
   "name": "python3"
  },
  "language_info": {
   "codemirror_mode": {
    "name": "ipython",
    "version": 3
   },
   "file_extension": ".py",
   "mimetype": "text/x-python",
   "name": "python",
   "nbconvert_exporter": "python",
   "pygments_lexer": "ipython3",
   "version": "3.8.8"
  }
 },
 "nbformat": 4,
 "nbformat_minor": 5
}
