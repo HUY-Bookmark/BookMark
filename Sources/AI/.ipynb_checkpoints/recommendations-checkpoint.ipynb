{
 "cells": [
  {
   "cell_type": "markdown",
   "id": "477f299f-2afe-4310-bb0e-9fe0013f9258",
   "metadata": {},
   "source": [
    "\n",
    "Collaborative Filtering approach\n",
    "\n",
    "Good source: https://developers.google.com/machine-learning/recommendation/collaborative/matrix\n",
    "\n",
    "Model:\n",
    "1. Map user ID to a \"user vector\" via an embedding matrix\n",
    "2. Map book ID to a \"book vector\" via an embedding matrix\n",
    "3. Compute the dot product between the user vector and book vector, to obtain the a match score between the user and the book (predicted rating).\n",
    "4. Train the embeddings via gradient descent using all known user-book pairs.\n"
   ]
  },
  {
   "cell_type": "markdown",
   "id": "584fdd33-b364-4a25-a868-47585a8100b0",
   "metadata": {
    "tags": []
   },
   "source": [
    "## Libraries & Import"
   ]
  },
  {
   "cell_type": "code",
   "execution_count": 124,
   "id": "373de3b2-ef36-41e3-8354-4c93b34f21ed",
   "metadata": {},
   "outputs": [
    {
     "name": "stdout",
     "output_type": "stream",
     "text": [
      "/Users/laura/Desktop/5_sem/SoftwareEngineering/bookai\n",
      "Books.csv   Ratings.csv Users.csv\n"
     ]
    }
   ],
   "source": [
    "%cd bookai\n",
    "!ls"
   ]
  },
  {
   "cell_type": "code",
   "execution_count": 3,
   "id": "3c08caa9-bf10-4896-bf39-1128cc1de23e",
   "metadata": {},
   "outputs": [],
   "source": [
    "import pandas as pd\n",
    "import numpy as np\n",
    "import tensorflow as tf\n",
    "from tensorflow import keras\n",
    "from tensorflow.keras import layers\n",
    "from pathlib import Path\n",
    "import matplotlib.pyplot as plt\n",
    "import json"
   ]
  },
  {
   "cell_type": "code",
   "execution_count": 125,
   "id": "0c2745be-b23b-4b61-88d9-08b497d06944",
   "metadata": {},
   "outputs": [
    {
     "name": "stderr",
     "output_type": "stream",
     "text": [
      "/opt/homebrew/Caskroom/miniforge/base/envs/tensorflow/lib/python3.9/site-packages/IPython/core/interactiveshell.py:3444: DtypeWarning: Columns (3) have mixed types.Specify dtype option on import or set low_memory=False.\n",
      "  exec(code_obj, self.user_global_ns, self.user_ns)\n"
     ]
    },
    {
     "data": {
      "text/html": [
       "<div>\n",
       "<style scoped>\n",
       "    .dataframe tbody tr th:only-of-type {\n",
       "        vertical-align: middle;\n",
       "    }\n",
       "\n",
       "    .dataframe tbody tr th {\n",
       "        vertical-align: top;\n",
       "    }\n",
       "\n",
       "    .dataframe thead th {\n",
       "        text-align: right;\n",
       "    }\n",
       "</style>\n",
       "<table border=\"1\" class=\"dataframe\">\n",
       "  <thead>\n",
       "    <tr style=\"text-align: right;\">\n",
       "      <th></th>\n",
       "      <th>userid</th>\n",
       "      <th>ISBN</th>\n",
       "      <th>bookrating</th>\n",
       "    </tr>\n",
       "  </thead>\n",
       "  <tbody>\n",
       "    <tr>\n",
       "      <th>0</th>\n",
       "      <td>276725</td>\n",
       "      <td>034545104X</td>\n",
       "      <td>0</td>\n",
       "    </tr>\n",
       "    <tr>\n",
       "      <th>1</th>\n",
       "      <td>276726</td>\n",
       "      <td>0155061224</td>\n",
       "      <td>5</td>\n",
       "    </tr>\n",
       "    <tr>\n",
       "      <th>2</th>\n",
       "      <td>276727</td>\n",
       "      <td>0446520802</td>\n",
       "      <td>0</td>\n",
       "    </tr>\n",
       "    <tr>\n",
       "      <th>3</th>\n",
       "      <td>276729</td>\n",
       "      <td>052165615X</td>\n",
       "      <td>3</td>\n",
       "    </tr>\n",
       "    <tr>\n",
       "      <th>4</th>\n",
       "      <td>276729</td>\n",
       "      <td>0521795028</td>\n",
       "      <td>6</td>\n",
       "    </tr>\n",
       "  </tbody>\n",
       "</table>\n",
       "</div>"
      ],
      "text/plain": [
       "   userid        ISBN  bookrating\n",
       "0  276725  034545104X           0\n",
       "1  276726  0155061224           5\n",
       "2  276727  0446520802           0\n",
       "3  276729  052165615X           3\n",
       "4  276729  0521795028           6"
      ]
     },
     "execution_count": 125,
     "metadata": {},
     "output_type": "execute_result"
    }
   ],
   "source": [
    "# we are using the concanteted rating data (userid & isbn & bookrating) for training\n",
    "book_df = pd.read_csv(\"Books.csv\", names = ['ISBN', 'title', 'author', 'year_publication', 'publisher', 'img_s', 'img_m', 'img_l'], skiprows = 1)\n",
    "    users = pd.read_csv(\"Users.csv\")\n",
    "df = pd.read_csv(\"Ratings.csv\", names = ['userid','ISBN', 'bookrating'], skiprows = 1)\n",
    "df.head()"
   ]
  },
  {
   "cell_type": "markdown",
   "id": "49949482-f4fa-4d9f-b7b8-b014b2ad40a5",
   "metadata": {
    "tags": []
   },
   "source": [
    "## Preprocessing"
   ]
  },
  {
   "cell_type": "code",
   "execution_count": 5,
   "id": "7588d5dd-7f69-43c0-a2e6-2b7279f5818e",
   "metadata": {},
   "outputs": [],
   "source": [
    "user_ids = df[\"userid\"].unique().tolist() # List of all unique user id's\n",
    "user2user_encoded = {x: i for i, x in enumerate(user_ids)} # map the unique user id's in sequence from 0 - n\n",
    "userencoded2user = {i: x for i, x in enumerate(user_ids)}  # map the unique user id's from 0 - n (the other way around)\n",
    "\n",
    "book_ids = df[\"ISBN\"].unique().tolist()\n",
    "book2book_encoded = {x: i for i, x in enumerate(book_ids)}\n",
    "book_encoded2book = {i: x for i, x in enumerate(book_ids)}\n",
    "\n",
    "df[\"user\"] = df[\"userid\"].map(user2user_encoded)\n",
    "df[\"book\"] = df[\"ISBN\"].map(book2book_encoded)"
   ]
  },
  {
   "cell_type": "code",
   "execution_count": 6,
   "id": "ced35449-589d-414b-b4ee-88dab9674c43",
   "metadata": {},
   "outputs": [
    {
     "data": {
      "text/html": [
       "<div>\n",
       "<style scoped>\n",
       "    .dataframe tbody tr th:only-of-type {\n",
       "        vertical-align: middle;\n",
       "    }\n",
       "\n",
       "    .dataframe tbody tr th {\n",
       "        vertical-align: top;\n",
       "    }\n",
       "\n",
       "    .dataframe thead th {\n",
       "        text-align: right;\n",
       "    }\n",
       "</style>\n",
       "<table border=\"1\" class=\"dataframe\">\n",
       "  <thead>\n",
       "    <tr style=\"text-align: right;\">\n",
       "      <th></th>\n",
       "      <th>userid</th>\n",
       "      <th>ISBN</th>\n",
       "      <th>bookrating</th>\n",
       "      <th>user</th>\n",
       "      <th>book</th>\n",
       "    </tr>\n",
       "  </thead>\n",
       "  <tbody>\n",
       "    <tr>\n",
       "      <th>0</th>\n",
       "      <td>276725</td>\n",
       "      <td>034545104X</td>\n",
       "      <td>0</td>\n",
       "      <td>0</td>\n",
       "      <td>0</td>\n",
       "    </tr>\n",
       "    <tr>\n",
       "      <th>1</th>\n",
       "      <td>276726</td>\n",
       "      <td>0155061224</td>\n",
       "      <td>5</td>\n",
       "      <td>1</td>\n",
       "      <td>1</td>\n",
       "    </tr>\n",
       "    <tr>\n",
       "      <th>2</th>\n",
       "      <td>276727</td>\n",
       "      <td>0446520802</td>\n",
       "      <td>0</td>\n",
       "      <td>2</td>\n",
       "      <td>2</td>\n",
       "    </tr>\n",
       "    <tr>\n",
       "      <th>3</th>\n",
       "      <td>276729</td>\n",
       "      <td>052165615X</td>\n",
       "      <td>3</td>\n",
       "      <td>3</td>\n",
       "      <td>3</td>\n",
       "    </tr>\n",
       "    <tr>\n",
       "      <th>4</th>\n",
       "      <td>276729</td>\n",
       "      <td>0521795028</td>\n",
       "      <td>6</td>\n",
       "      <td>3</td>\n",
       "      <td>4</td>\n",
       "    </tr>\n",
       "  </tbody>\n",
       "</table>\n",
       "</div>"
      ],
      "text/plain": [
       "   userid        ISBN  bookrating  user  book\n",
       "0  276725  034545104X           0     0     0\n",
       "1  276726  0155061224           5     1     1\n",
       "2  276727  0446520802           0     2     2\n",
       "3  276729  052165615X           3     3     3\n",
       "4  276729  0521795028           6     3     4"
      ]
     },
     "execution_count": 6,
     "metadata": {},
     "output_type": "execute_result"
    }
   ],
   "source": [
    "df.head()"
   ]
  },
  {
   "cell_type": "code",
   "execution_count": 7,
   "id": "f1006d24-38ba-4181-ada9-96da9297565a",
   "metadata": {},
   "outputs": [
    {
     "name": "stdout",
     "output_type": "stream",
     "text": [
      "Number of users: 105283, Number of books: 340556, Min rating: 0, Max rating: 10\n"
     ]
    }
   ],
   "source": [
    "num_users = len(user2user_encoded)\n",
    "num_books = len(book_encoded2book)\n",
    "min_rating = min(df[\"bookrating\"])\n",
    "max_rating = max(df[\"bookrating\"])\n",
    "\n",
    "print(\"Number of users: {}, Number of books: {}, Min rating: {}, Max rating: {}\".format(\n",
    "        num_users, num_books, min_rating, max_rating))"
   ]
  },
  {
   "cell_type": "code",
   "execution_count": 8,
   "id": "adb35edc-e05c-4aee-877b-7325456a5e29",
   "metadata": {},
   "outputs": [],
   "source": [
    "df = df.sample(frac=1, random_state=42) # Shuffle the dataframe\n",
    "x = df[[\"user\", \"book\"]].values\n",
    "\n",
    "# Normalize the targets between 0 and 1. Makes it easier to train.\n",
    "y = df[\"bookrating\"].apply(lambda x: (x - min_rating) / (max_rating - min_rating)).values\n",
    "\n",
    "# Training on 80% of the data and validating on 20%.\n",
    "train_indices = int(0.8 * len(df))\n",
    "x_train, x_test, y_train, y_test = (\n",
    "    x[:train_indices],\n",
    "    x[train_indices:],\n",
    "    y[:train_indices],\n",
    "    y[train_indices:],\n",
    ")"
   ]
  },
  {
   "cell_type": "markdown",
   "id": "f0935436-805a-4c29-98d6-b2b7bac1286b",
   "metadata": {
    "tags": []
   },
   "source": [
    "## Model & Training"
   ]
  },
  {
   "cell_type": "code",
   "execution_count": null,
   "id": "bb4a0273-b675-49a6-bd8d-fb408af8951a",
   "metadata": {},
   "outputs": [],
   "source": [
    "EMBEDDING_SIZE = 50 # Embeddings are vectors representing each book and user\n",
    "\n",
    "class RecommenderNet(keras.Model): # Create subclass of Keras Model class\n",
    "    def __init__(self, num_users, num_books, embedding_size):\n",
    "        super(RecommenderNet, self).__init__() # Inherit from super class\n",
    "        self.num_users = num_users\n",
    "        self.num_books = num_books\n",
    "        self.embedding_size = embedding_size\n",
    "        \n",
    "        # USERS embedding layer\n",
    "        self.user_embedding = layers.Embedding( # Turns positive integers (indexes) into dense vectors of fixed size.\n",
    "            num_users, # Input dimension\n",
    "            embedding_size, # Output dimension\n",
    "            embeddings_initializer = \"he_normal\", # Initializes the embeddings to random samples from a truncated normal distribution centered on 0 \n",
    "            embeddings_regularizer = keras.regularizers.l2(1e-6), # Regularization prevents overfitting\n",
    "        )\n",
    "        self.user_bias = layers.Embedding(num_users, 1)\n",
    "        \n",
    "        # BOOKS embedding layer\n",
    "        self.book_embedding = layers.Embedding(\n",
    "            num_books, # Input dimension\n",
    "            embedding_size, # Output dimension\n",
    "            embeddings_initializer=\"he_normal\",\n",
    "            embeddings_regularizer=keras.regularizers.l2(1e-6),\n",
    "        )\n",
    "        self.book_bias = layers.Embedding(num_books, 1)\n",
    "\n",
    "    def call(self, inputs): # initialization of layers and embeddings to be optimized in fit\n",
    "        user_vector = self.user_embedding(inputs[:, 0]) # inputs = [user, book]\n",
    "        user_bias = self.user_bias(inputs[:, 0])\n",
    "        book_vector = self.book_embedding(inputs[:, 1])\n",
    "        book_bias = self.book_bias(inputs[:, 1])\n",
    "        dot_user_book = tf.tensordot(user_vector, book_vector, 2) # Matrix factorization # Dot products\n",
    "        x = dot_user_book + user_bias + book_bias # Add all the components (including bias)\n",
    "        return tf.nn.sigmoid(x) # The sigmoid activation forces the rating to between 0 and 1\n",
    "\n",
    "\n",
    "model = RecommenderNet(num_users, num_books, EMBEDDING_SIZE)\n",
    "model.compile(\n",
    "    loss = tf.keras.losses.BinaryCrossentropy(), # Loss function used in optimization \n",
    "    optimizer = keras.optimizers.Adam(learning_rate = 0.001) # Adam optimization algorithm \n",
    ")"
   ]
  },
  {
   "cell_type": "code",
   "execution_count": null,
   "id": "12d76a97-d2ae-4d73-a52b-2dca5ffa51c9",
   "metadata": {},
   "outputs": [],
   "source": [
    "history = model.fit(\n",
    "    x = x_train,\n",
    "    y = y_train,\n",
    "    batch_size = 50, #Number of samples per gradient update\n",
    "    epochs = 5,\n",
    "    verbose = 1, # show training progression\n",
    "    validation_data = (x_test, y_test),\n",
    ")"
   ]
  },
  {
   "cell_type": "code",
   "execution_count": 12,
   "id": "3f00f7cf-e2a1-4764-b98a-8ad4a9e9ef7f",
   "metadata": {},
   "outputs": [
    {
     "data": {
      "image/png": "[encoded data removed]",
      "text/plain": [
       "<Figure size 432x288 with 1 Axes>"
      ]
     },
     "metadata": {
      "needs_background": "light"
     },
     "output_type": "display_data"
    }
   ],
   "source": [
    "plt.plot(history.history[\"loss\"])\n",
    "plt.plot(history.history[\"val_loss\"])\n",
    "plt.title(\"model loss\")\n",
    "plt.ylabel(\"loss\")\n",
    "plt.xlabel(\"epoch\")\n",
    "plt.legend([\"train\", \"test\"], loc=\"upper left\")\n",
    "plt.show()"
   ]
  },
  {
   "cell_type": "code",
   "execution_count": 57,
   "id": "8690e564-fab6-45fb-8a26-89aeae2b074e",
   "metadata": {},
   "outputs": [],
   "source": [
    "# Trained model has been saved and can be loaded in\n",
    "\n",
    "#model.save('collaborative_filtering_model')\n",
    "#model = keras.models.load_model('collaborative_filtering_model')"
   ]
  },
  {
   "cell_type": "markdown",
   "id": "70807fd7-ead4-488f-ada0-74ede2ea44e8",
   "metadata": {
    "tags": []
   },
   "source": [
    "## User Recommendations & JSON Output"
   ]
  },
  {
   "cell_type": "code",
   "execution_count": 107,
   "id": "aae9cc40-0c94-4968-8a91-c2cbe3486fc6",
   "metadata": {},
   "outputs": [
    {
     "name": "stdout",
     "output_type": "stream",
     "text": [
      "Showing recommendations for user: 95554\n",
      "====================================\n",
      "books with high ratings from user\n",
      "--------------------------------\n",
      "The Little Prince : Antoine de Saint-ExupÃ©ry\n",
      "High Fidelity : Nick Hornby\n",
      "The General in His Labyrinth (Penguin Great Books of the 20th Century) : Garcia Marques\n",
      "The Pillars of Hercules: A Grand Tour of the Mediterranean : Paul Theroux\n",
      "Mrs Keppel and Her Daughter : Diana Souhami\n",
      "--------------------------------\n",
      "Top 10 book recommendations\n",
      "--------------------------------\n",
      "One Fish Two Fish Red Fish Blue Fish (I Can Read It All by Myself Beginner Books) : DR SEUSS\n",
      "Harry Potter and the Sorcerer's Stone (Book 1) : J. K. Rowling\n",
      "Free : Paul Vincent\n",
      "Harry Potter and the Prisoner of Azkaban (Book 3) : J. K. Rowling\n",
      "Love You Forever : Robert N. Munsch\n",
      "Falling Up : Shel Silverstein\n",
      "A Kiss for Little Bear : Else Holmelund Minarik\n",
      "There's Treasure Everywhere--A Calvin and Hobbes Collection : Bill Watterson\n",
      "Harry Potter and the Chamber of Secrets Postcard Book : J. K. Rowling\n",
      "Bloom County Babylon : Five Years of Basic Naughtiness (Bloom County) : Berkeley Breathed\n"
     ]
    }
   ],
   "source": [
    "# Get a random user and see the top recommendations.\n",
    "user_id = df.userid.sample(1).iloc[0]  # Returns row id and userid, therefore we index with iloc\n",
    "books_read_by_user = df[df.userid == user_id]\n",
    "books_not_read = book_df[~book_df[\"ISBN\"].isin(books_read_by_user.ISBN)][\"ISBN\"] # Extract all book ISBN that the user has NOT already read\n",
    "books_not_read = list(set(books_not_read).intersection(set(book2book_encoded.keys()))) # If not done, 'predict' can't convert np array to tensor\n",
    "books_not_read = [[book2book_encoded.get(x)] for x in books_not_read] # We have to get the encoded book ids, because that is what we fed the model\n",
    "user_encoder = user2user_encoded.get(user_id) # Also get the encoded user id\n",
    "user_book_array = np.hstack(([[user_encoder]] * len(books_not_read), books_not_read)) # Horizontal stack # concatenate the userid in one column and unread books in the other\n",
    "ratings = model.predict(user_book_array).flatten() # Get rating predictions for each unread book # Flatten, or otherwise it will be an array of arrays\n",
    "top_ratings_indices = ratings.argsort()[-10:][::-1] # Return indices of books in ascending order # get the last 10 (highest rating) # reverse order such that highest rated book is first\n",
    "recommended_book_ids = [book_encoded2book.get(books_not_read[x][0]) for x in top_ratings_indices] # get original ISBN of the highest rated books\n",
    "\n",
    "print(\"Showing recommendations for user: {}\".format(user_id))\n",
    "print(\"====\" * 9)\n",
    "print(\"books with high ratings from user\")\n",
    "print(\"----\" * 8)\n",
    "top_books_user = (\n",
    "    books_read_by_user.sort_values(by=\"bookrating\", ascending=False)\n",
    "    .head(5)\n",
    "    .ISBN.values\n",
    ")\n",
    "                      \n",
    "book_df_rows = book_df[book_df[\"ISBN\"].isin(top_books_user)]\n",
    "for row in book_df_rows.itertuples():\n",
    "    print(row.title, \":\", row.author)\n",
    "\n",
    "print(\"----\" * 8)\n",
    "print(\"Top 10 book recommendations\")\n",
    "print(\"----\" * 8)\n",
    "recommended_books = book_df[book_df[\"ISBN\"].isin(recommended_book_ids)]\n",
    "for row in recommended_books.itertuples():\n",
    "    print(row.title, \":\", row.author)\n"
   ]
  },
  {
   "cell_type": "code",
   "execution_count": 113,
   "id": "b5d29ca7-35d5-427e-98a9-c81e19f3c9e0",
   "metadata": {},
   "outputs": [
    {
     "name": "stdout",
     "output_type": "stream",
     "text": [
      "{\n",
      "  \"user_id\": 95554,\n",
      "  \"high_rating_books_ISBN\": [\n",
      "    \"0156528207\",\n",
      "    \"1573225517\",\n",
      "    \"0140148590\",\n",
      "    \"0449910857\",\n",
      "    \"0312195176\"\n",
      "  ],\n",
      "  \"book_recommendations_ISBN\": [\n",
      "    \"0394800133\",\n",
      "    \"0590353403\",\n",
      "    \"1844262553\",\n",
      "    \"0439136350\",\n",
      "    \"0920668372\",\n",
      "    \"0060248025\",\n",
      "    \"0064440508\",\n",
      "    \"0836213122\",\n",
      "    \"0439425220\",\n",
      "    \"0316103098\"\n",
      "  ]\n",
      "}\n"
     ]
    }
   ],
   "source": [
    "# Convert from numpy to python types in order to convert to JSON\n",
    "recommendation_list = [isbn for isbn in recommended_books.ISBN]\n",
    "rating_list = [isbn for isbn in top_books_user]\n",
    "\n",
    "\n",
    "# Make python dict\n",
    "rec_dict = {}\n",
    "rec_dict['user_id'] = user_id.item()\n",
    "rec_dict['high_rating_books_ISBN'] = rating_list\n",
    "rec_dict['book_recommendations_ISBN'] = recommendation_list\n",
    "\n",
    "# Convert python dict to json object\n",
    "json_version = json.dumps(rec_dict, indent = 2)\n",
    "\n",
    "print(json_version)"
   ]
  }
 ],
 "metadata": {
  "kernelspec": {
   "display_name": "Python 3",
   "language": "python",
   "name": "python3"
  },
  "language_info": {
   "codemirror_mode": {
    "name": "ipython",
    "version": 3
   },
   "file_extension": ".py",
   "mimetype": "text/x-python",
   "name": "python",
   "nbconvert_exporter": "python",
   "pygments_lexer": "ipython3",
   "version": "3.8.8"
  },
  "toc-autonumbering": false,
  "toc-showcode": false,
  "toc-showmarkdowntxt": false
 },
 "nbformat": 4,
 "nbformat_minor": 5
}
