{
 "cells": [
  {
   "cell_type": "code",
   "execution_count": 82,
   "id": "60b3a2e0-e4e3-4881-bcc6-6f0304f412f5",
   "metadata": {},
   "outputs": [],
   "source": [
    "import pandas\n",
    "import requests\n",
    "import json\n",
    "import re"
   ]
  },
  {
   "cell_type": "code",
   "execution_count": 70,
   "id": "52dbf317-eb7b-44ae-89a4-1b41a1690528",
   "metadata": {},
   "outputs": [],
   "source": [
    "books = pandas.read_csv('../../Sources/AI/bookai/Books.csv', \n",
    "                        names = ['ISBN', 'title', 'author', 'year_publication', 'publisher', 'img_s', 'img_m', 'img_l'], \n",
    "                        skiprows = 1, \n",
    "                        low_memory=False)"
   ]
  },
  {
   "cell_type": "code",
   "execution_count": 114,
   "id": "85ef7c14-0f1e-48ca-a417-60cc5c627250",
   "metadata": {},
   "outputs": [
    {
     "name": "stdout",
     "output_type": "stream",
     "text": [
      "Number of books:  271360\n"
     ]
    }
   ],
   "source": [
    "urlMultipleInsert = \"http://bookmark-bookshelf.herokuapp.com/api/book/multiple\"\n",
    "\n",
    "def parseTitle (title):\n",
    "    b = {}\n",
    "    \n",
    "    match1 = re.search(\"^(.*) \\(((.*) (Series)?)\\)\", title)\n",
    "    if match1:\n",
    "        b[\"book_name\"] = match1[1]\n",
    "        b[\"series_name\"] = match1[2]\n",
    "    \n",
    "    match2 = re.search(\"^(.*) \\((.*), Book (\\d)+\\)\", title)\n",
    "    if match2:\n",
    "        b[\"book_name\"] = match2[1]\n",
    "        b[\"series_name\"] = match2[2]\n",
    "        b[\"series_position\"] = match2[3]\n",
    "        \n",
    "    if not match1 and not match2:\n",
    "        b[\"book_name\"] = title\n",
    "\n",
    "    return b\n",
    "\n",
    "def bookArray (index):\n",
    "    b_data = parseTitle(books.title[index])\n",
    "    b_data[\"isbn13\"] = books.ISBN[index]\n",
    "    b_data[\"authors\"] = [books.author[index]]\n",
    "    b_data[\"cover\"] = books.img_l[index]\n",
    "    \n",
    "    return b_data\n",
    "\n",
    "def getXBooks (x, start_i):\n",
    "    lst = []\n",
    "    for i in range(x):\n",
    "        try:\n",
    "            lst.append(bookArray(start_i + i))\n",
    "        except:\n",
    "            print(\"Error at index\", start_i + i)\n",
    "    return lst\n",
    "\n",
    "\n",
    "\n",
    "nb_books = len(books.index)\n",
    "print(\"Number of books: \", nb_books)"
   ]
  },
  {
   "cell_type": "code",
   "execution_count": 110,
   "id": "9a851dac-eeed-41c0-90a4-b9d52c1c4b2f",
   "metadata": {},
   "outputs": [],
   "source": [
    "def sendRequest (url, data):\n",
    "    response = requests.post(url, json=data)\n",
    "    if response.status_code != 200:\n",
    "        print(data)\n",
    "        print(response.text)"
   ]
  },
  {
   "cell_type": "code",
   "execution_count": 117,
   "id": "40d06988-4020-43bd-aa87-ce4b6f8d1d38",
   "metadata": {},
   "outputs": [],
   "source": [
    "step = 20\n",
    "start = 0\n",
    "for i in range(5):\n",
    "    books_data = getXBooks(step, start)\n",
    "    sendRequest(urlMultipleInsert, books_data)\n",
    "    start = start + step"
   ]
  },
  {
   "cell_type": "code",
   "execution_count": null,
   "id": "f5332c81-fc62-477e-9145-1cf62727e430",
   "metadata": {},
   "outputs": [],
   "source": []
  }
 ],
 "metadata": {
  "kernelspec": {
   "display_name": "Python 3",
   "language": "python",
   "name": "python3"
  },
  "language_info": {
   "codemirror_mode": {
    "name": "ipython",
    "version": 3
   },
   "file_extension": ".py",
   "mimetype": "text/x-python",
   "name": "python",
   "nbconvert_exporter": "python",
   "pygments_lexer": "ipython3",
   "version": "3.8.8"
  }
 },
 "nbformat": 4,
 "nbformat_minor": 5
}
